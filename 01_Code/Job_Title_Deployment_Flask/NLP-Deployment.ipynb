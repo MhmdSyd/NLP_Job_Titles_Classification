{
 "cells": [
  {
   "cell_type": "markdown",
   "metadata": {},
   "source": [
    "### Job Title Detector App with Flask"
   ]
  },
  {
   "cell_type": "code",
   "execution_count": null,
   "metadata": {},
   "outputs": [
    {
     "name": "stdout",
     "output_type": "stream",
     "text": [
      " * Serving Flask app \"__main__\" (lazy loading)\n",
      " * Environment: production\n",
      "   WARNING: This is a development server. Do not use it in a production deployment.\n",
      "   Use a production WSGI server instead.\n",
      " * Debug mode: off\n"
     ]
    },
    {
     "name": "stderr",
     "output_type": "stream",
     "text": [
      " * Running on http://127.0.0.1:4040/ (Press CTRL+C to quit)\n",
      "127.0.0.1 - - [20/Sep/2021 18:39:28] \"\u001b[37mGET / HTTP/1.1\u001b[0m\" 200 -\n",
      "127.0.0.1 - - [20/Sep/2021 18:39:50] \"\u001b[37mPOST /predict HTTP/1.1\u001b[0m\" 200 -\n"
     ]
    }
   ],
   "source": [
    "# important lib\n",
    "from flask import Flask,render_template,url_for,request\n",
    "import pickle\n",
    "\n",
    "# load the vectorizer from disk\n",
    "filename = 'Naive_model.pkl'\n",
    "model = pickle.load(open(filename, 'rb'))\n",
    "# load the model from disk.\n",
    "vectorizer=pickle.load(open('tranform.pkl','rb'))\n",
    "\n",
    "# init flask app\n",
    "app = Flask(__name__)\n",
    "\n",
    "# root function.\n",
    "@app.route('/')\n",
    "def home():\n",
    "    return render_template('home.html')\n",
    "\n",
    "# prediction function.\n",
    "@app.route('/predict',methods=['POST'])\n",
    "def predict():\n",
    "\n",
    "    #  check if the current request from a user was performed using the HTTP \"POST\" method.\n",
    "    if request.method == 'POST':\n",
    "        #get text from textbox and store it in message variable.\n",
    "        message = request.form['message']\n",
    "        # change message string to list.\n",
    "        data = [message]\n",
    "        # transform input job description to vectorizer\n",
    "        vect = vectorizer.transform(data).toarray()\n",
    "        # predict job title class.\n",
    "        my_prediction = model.predict(vect)\n",
    "        \n",
    "    return render_template('result.html',prediction = my_prediction)\n",
    "\n",
    "@app.route('/tryagain')\n",
    "def tryagain():\n",
    "    return render_template('home.html')\n",
    "\n",
    "\n",
    "if __name__ == '__main__':\n",
    "    app.run(port=4040)"
   ]
  },
  {
   "cell_type": "markdown",
   "metadata": {},
   "source": [
    "### Thanks for Read My NoteBook :)"
   ]
  }
 ],
 "metadata": {
  "kernelspec": {
   "display_name": "Python 3",
   "language": "python",
   "name": "python3"
  },
  "language_info": {
   "codemirror_mode": {
    "name": "ipython",
    "version": 3
   },
   "file_extension": ".py",
   "mimetype": "text/x-python",
   "name": "python",
   "nbconvert_exporter": "python",
   "pygments_lexer": "ipython3",
   "version": "3.8.3"
  }
 },
 "nbformat": 4,
 "nbformat_minor": 4
}
